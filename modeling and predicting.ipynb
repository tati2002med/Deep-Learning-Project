{
  "nbformat": 4,
  "nbformat_minor": 0,
  "metadata": {
    "colab": {
      "provenance": [],
      "gpuType": "T4"
    },
    "kernelspec": {
      "name": "python3",
      "display_name": "Python 3"
    },
    "language_info": {
      "name": "python"
    },
    "accelerator": "GPU"
  },
  "cells": [
    {
      "cell_type": "code",
      "source": [
        "from copy import deepcopy as dc\n",
        "import re\n",
        "import numpy as np\n",
        "import pandas as pd \n",
        "import tensorflow as tf\n",
        "from keras.layers import Input, Embedding, LSTM, Multiply, Dense, Dropout, Flatten, Bidirectional, Lambda\n",
        "from keras.models import Model\n",
        "from sklearn.model_selection import train_test_split\n",
        "from keras.preprocessing.text import Tokenizer\n",
        "from keras.utils import pad_sequences\n",
        "from keras import Sequential, backend\n",
        "from keras.utils.vis_utils import plot_model"
      ],
      "metadata": {
        "id": "cEDGBE3_rayt"
      },
      "execution_count": 2,
      "outputs": []
    },
    {
      "cell_type": "code",
      "source": [
        "cleaned_data = pd.read_csv(\"/content/drive/MyDrive/Deep Learning Data /cleaned_data_without_stopwords.csv\")\n",
        "cleaned_data.tail()"
      ],
      "metadata": {
        "colab": {
          "base_uri": "https://localhost:8080/",
          "height": 206
        },
        "id": "ca_HhjcWs8SJ",
        "outputId": "084d38c4-ce24-4b99-dfc2-268b247eb81b"
      },
      "execution_count": 3,
      "outputs": [
        {
          "output_type": "execute_result",
          "data": {
            "text/plain": [
              "                                                question1  \\\n",
              "404282  many keywords racket program language latest v...   \n",
              "404283                                 believe life death   \n",
              "404284                                           one coin   \n",
              "404285  approx annual cost live study uic chicago indi...   \n",
              "404286                                    like sex cousin   \n",
              "\n",
              "                                                question2  is_duplicate  \n",
              "404282  many keywords perl program language latest ver...             0  \n",
              "404283                                    true life death             1  \n",
              "404284                                               coin             0  \n",
              "404285  little hairfall problem want use hair style pr...             0  \n",
              "404286                                    like sex cousin             0  "
            ],
            "text/html": [
              "\n",
              "  <div id=\"df-bffc063b-1ad9-4439-b25d-5a9e7eb48f0a\">\n",
              "    <div class=\"colab-df-container\">\n",
              "      <div>\n",
              "<style scoped>\n",
              "    .dataframe tbody tr th:only-of-type {\n",
              "        vertical-align: middle;\n",
              "    }\n",
              "\n",
              "    .dataframe tbody tr th {\n",
              "        vertical-align: top;\n",
              "    }\n",
              "\n",
              "    .dataframe thead th {\n",
              "        text-align: right;\n",
              "    }\n",
              "</style>\n",
              "<table border=\"1\" class=\"dataframe\">\n",
              "  <thead>\n",
              "    <tr style=\"text-align: right;\">\n",
              "      <th></th>\n",
              "      <th>question1</th>\n",
              "      <th>question2</th>\n",
              "      <th>is_duplicate</th>\n",
              "    </tr>\n",
              "  </thead>\n",
              "  <tbody>\n",
              "    <tr>\n",
              "      <th>404282</th>\n",
              "      <td>many keywords racket program language latest v...</td>\n",
              "      <td>many keywords perl program language latest ver...</td>\n",
              "      <td>0</td>\n",
              "    </tr>\n",
              "    <tr>\n",
              "      <th>404283</th>\n",
              "      <td>believe life death</td>\n",
              "      <td>true life death</td>\n",
              "      <td>1</td>\n",
              "    </tr>\n",
              "    <tr>\n",
              "      <th>404284</th>\n",
              "      <td>one coin</td>\n",
              "      <td>coin</td>\n",
              "      <td>0</td>\n",
              "    </tr>\n",
              "    <tr>\n",
              "      <th>404285</th>\n",
              "      <td>approx annual cost live study uic chicago indi...</td>\n",
              "      <td>little hairfall problem want use hair style pr...</td>\n",
              "      <td>0</td>\n",
              "    </tr>\n",
              "    <tr>\n",
              "      <th>404286</th>\n",
              "      <td>like sex cousin</td>\n",
              "      <td>like sex cousin</td>\n",
              "      <td>0</td>\n",
              "    </tr>\n",
              "  </tbody>\n",
              "</table>\n",
              "</div>\n",
              "      <button class=\"colab-df-convert\" onclick=\"convertToInteractive('df-bffc063b-1ad9-4439-b25d-5a9e7eb48f0a')\"\n",
              "              title=\"Convert this dataframe to an interactive table.\"\n",
              "              style=\"display:none;\">\n",
              "        \n",
              "  <svg xmlns=\"http://www.w3.org/2000/svg\" height=\"24px\"viewBox=\"0 0 24 24\"\n",
              "       width=\"24px\">\n",
              "    <path d=\"M0 0h24v24H0V0z\" fill=\"none\"/>\n",
              "    <path d=\"M18.56 5.44l.94 2.06.94-2.06 2.06-.94-2.06-.94-.94-2.06-.94 2.06-2.06.94zm-11 1L8.5 8.5l.94-2.06 2.06-.94-2.06-.94L8.5 2.5l-.94 2.06-2.06.94zm10 10l.94 2.06.94-2.06 2.06-.94-2.06-.94-.94-2.06-.94 2.06-2.06.94z\"/><path d=\"M17.41 7.96l-1.37-1.37c-.4-.4-.92-.59-1.43-.59-.52 0-1.04.2-1.43.59L10.3 9.45l-7.72 7.72c-.78.78-.78 2.05 0 2.83L4 21.41c.39.39.9.59 1.41.59.51 0 1.02-.2 1.41-.59l7.78-7.78 2.81-2.81c.8-.78.8-2.07 0-2.86zM5.41 20L4 18.59l7.72-7.72 1.47 1.35L5.41 20z\"/>\n",
              "  </svg>\n",
              "      </button>\n",
              "      \n",
              "  <style>\n",
              "    .colab-df-container {\n",
              "      display:flex;\n",
              "      flex-wrap:wrap;\n",
              "      gap: 12px;\n",
              "    }\n",
              "\n",
              "    .colab-df-convert {\n",
              "      background-color: #E8F0FE;\n",
              "      border: none;\n",
              "      border-radius: 50%;\n",
              "      cursor: pointer;\n",
              "      display: none;\n",
              "      fill: #1967D2;\n",
              "      height: 32px;\n",
              "      padding: 0 0 0 0;\n",
              "      width: 32px;\n",
              "    }\n",
              "\n",
              "    .colab-df-convert:hover {\n",
              "      background-color: #E2EBFA;\n",
              "      box-shadow: 0px 1px 2px rgba(60, 64, 67, 0.3), 0px 1px 3px 1px rgba(60, 64, 67, 0.15);\n",
              "      fill: #174EA6;\n",
              "    }\n",
              "\n",
              "    [theme=dark] .colab-df-convert {\n",
              "      background-color: #3B4455;\n",
              "      fill: #D2E3FC;\n",
              "    }\n",
              "\n",
              "    [theme=dark] .colab-df-convert:hover {\n",
              "      background-color: #434B5C;\n",
              "      box-shadow: 0px 1px 3px 1px rgba(0, 0, 0, 0.15);\n",
              "      filter: drop-shadow(0px 1px 2px rgba(0, 0, 0, 0.3));\n",
              "      fill: #FFFFFF;\n",
              "    }\n",
              "  </style>\n",
              "\n",
              "      <script>\n",
              "        const buttonEl =\n",
              "          document.querySelector('#df-bffc063b-1ad9-4439-b25d-5a9e7eb48f0a button.colab-df-convert');\n",
              "        buttonEl.style.display =\n",
              "          google.colab.kernel.accessAllowed ? 'block' : 'none';\n",
              "\n",
              "        async function convertToInteractive(key) {\n",
              "          const element = document.querySelector('#df-bffc063b-1ad9-4439-b25d-5a9e7eb48f0a');\n",
              "          const dataTable =\n",
              "            await google.colab.kernel.invokeFunction('convertToInteractive',\n",
              "                                                     [key], {});\n",
              "          if (!dataTable) return;\n",
              "\n",
              "          const docLinkHtml = 'Like what you see? Visit the ' +\n",
              "            '<a target=\"_blank\" href=https://colab.research.google.com/notebooks/data_table.ipynb>data table notebook</a>'\n",
              "            + ' to learn more about interactive tables.';\n",
              "          element.innerHTML = '';\n",
              "          dataTable['output_type'] = 'display_data';\n",
              "          await google.colab.output.renderOutput(dataTable, element);\n",
              "          const docLink = document.createElement('div');\n",
              "          docLink.innerHTML = docLinkHtml;\n",
              "          element.appendChild(docLink);\n",
              "        }\n",
              "      </script>\n",
              "    </div>\n",
              "  </div>\n",
              "  "
            ]
          },
          "metadata": {},
          "execution_count": 3
        }
      ]
    },
    {
      "cell_type": "code",
      "source": [
        "MAX_NB_WORDS = 200000\n",
        "tokenizer = Tokenizer(num_words = MAX_NB_WORDS)\n",
        "tokenizer.fit_on_texts(list(cleaned_data['question1'].values.astype(str))+list(cleaned_data['question2'].values.astype(str)))\n",
        "\n",
        "X_train_q1 = tokenizer.texts_to_sequences(cleaned_data['question1'].values.astype(str))\n",
        "X_train_q1 = pad_sequences(X_train_q1, maxlen = 54, padding='post')\n",
        "\n",
        "X_train_q2 = tokenizer.texts_to_sequences(cleaned_data['question2'].values.astype(str))\n",
        "X_train_q2 = pad_sequences(X_train_q2, maxlen = 54, padding='post')"
      ],
      "metadata": {
        "id": "jxGMLBuqtFch"
      },
      "execution_count": 4,
      "outputs": []
    },
    {
      "cell_type": "code",
      "source": [
        "word_index = tokenizer.word_index\n",
        "Y_train = cleaned_data['is_duplicate'].values"
      ],
      "metadata": {
        "id": "NdYLQsbmtcnc"
      },
      "execution_count": 5,
      "outputs": []
    },
    {
      "cell_type": "code",
      "source": [
        "embedding_index = {}\n",
        "with open('/content/drive/MyDrive/Deep Learning Data /glove.6B.100d.txt','r') as f:\n",
        "    for line in f:\n",
        "        values = line.split()\n",
        "        word = values[0]\n",
        "        vectors = np.asarray(values[1:], 'float32')\n",
        "        embedding_index[word] = vectors\n",
        "    f.close()"
      ],
      "metadata": {
        "id": "69Wq4nNvtcvf"
      },
      "execution_count": 6,
      "outputs": []
    },
    {
      "cell_type": "code",
      "source": [
        "embedding_matrix = np.zeros((len(word_index)+1, 100))\n",
        "for word, i in word_index.items():\n",
        "    embedding_vector = embedding_index.get(word)\n",
        "    if embedding_vector is not None:\n",
        "        embedding_matrix[i] = embedding_vector"
      ],
      "metadata": {
        "id": "6Tau4yETtc2a"
      },
      "execution_count": 7,
      "outputs": []
    },
    {
      "cell_type": "code",
      "source": [
        "with tf.device('/device:GPU:0'):\n",
        "  lstm_layer = Bidirectional(LSTM(128, dropout=0.2, recurrent_dropout=0.2))\n",
        "  # loading our matrix\n",
        "  emb = Embedding(input_dim = len(word_index)+1,\n",
        "                          output_dim = 100,\n",
        "                        weights = [embedding_matrix],\n",
        "                        input_length = 54)\n",
        "  input1 = Input(shape=(54,))\n",
        "  e1 = emb(input1)\n",
        "  x1 = lstm_layer(e1)\n",
        "  input2 = Input(shape=(54,))\n",
        "  e2 = emb(input2)\n",
        "  x2 = lstm_layer(e2)\n",
        "  mhd = lambda x: backend.abs(x[0] - x[1])\n",
        "  merged = Lambda(function=mhd, output_shape=lambda x: x[0], name='L1_distance')([x1, x2])\n",
        "  preds = Dense(1, activation='sigmoid')(merged)\n",
        "  model = Model(inputs=[input1, input2], outputs=preds)\n",
        "  model.compile(loss='mse', optimizer='adam', metrics = ['accuracy'])"
      ],
      "metadata": {
        "colab": {
          "base_uri": "https://localhost:8080/"
        },
        "id": "raWO3Ah8tc-j",
        "outputId": "5fb7dfed-1c2e-4e0c-b6c9-6a92497dabf3"
      },
      "execution_count": 8,
      "outputs": [
        {
          "output_type": "stream",
          "name": "stderr",
          "text": [
            "WARNING:tensorflow:Layer lstm will not use cuDNN kernels since it doesn't meet the criteria. It will use a generic GPU kernel as fallback when running on GPU.\n",
            "WARNING:tensorflow:Layer lstm will not use cuDNN kernels since it doesn't meet the criteria. It will use a generic GPU kernel as fallback when running on GPU.\n",
            "WARNING:tensorflow:Layer lstm will not use cuDNN kernels since it doesn't meet the criteria. It will use a generic GPU kernel as fallback when running on GPU.\n"
          ]
        }
      ]
    },
    {
      "cell_type": "code",
      "source": [
        "from google.colab import drive\n",
        "drive.mount('/content/drive')"
      ],
      "metadata": {
        "colab": {
          "base_uri": "https://localhost:8080/"
        },
        "id": "uq9WHj9RWlPn",
        "outputId": "df7c374b-4d49-4f61-daa6-9e384b74b293"
      },
      "execution_count": 1,
      "outputs": [
        {
          "output_type": "stream",
          "name": "stdout",
          "text": [
            "Mounted at /content/drive\n"
          ]
        }
      ]
    },
    {
      "cell_type": "code",
      "source": [
        "with tf.device('/device:GPU:0'):\n",
        "  model.fit([X_train_q1,X_train_q2],Y_train, batch_size = 2000, epochs = 20)"
      ],
      "metadata": {
        "colab": {
          "base_uri": "https://localhost:8080/"
        },
        "id": "bEG48o1RtyAi",
        "outputId": "a7863b62-da19-43e9-e88b-69a52bb94f91"
      },
      "execution_count": 9,
      "outputs": [
        {
          "output_type": "stream",
          "name": "stdout",
          "text": [
            "Epoch 1/20\n",
            "203/203 [==============================] - 243s 1s/step - loss: 0.1873 - accuracy: 0.7019\n",
            "Epoch 2/20\n",
            "203/203 [==============================] - 204s 1s/step - loss: 0.1546 - accuracy: 0.7679\n",
            "Epoch 3/20\n",
            "203/203 [==============================] - 203s 1s/step - loss: 0.1418 - accuracy: 0.7902\n",
            "Epoch 4/20\n",
            "203/203 [==============================] - 198s 975ms/step - loss: 0.1331 - accuracy: 0.8052\n",
            "Epoch 5/20\n",
            "203/203 [==============================] - 198s 971ms/step - loss: 0.1259 - accuracy: 0.8179\n",
            "Epoch 6/20\n",
            "203/203 [==============================] - 197s 971ms/step - loss: 0.1198 - accuracy: 0.8284\n",
            "Epoch 7/20\n",
            "203/203 [==============================] - 199s 981ms/step - loss: 0.1143 - accuracy: 0.8370\n",
            "Epoch 8/20\n",
            "203/203 [==============================] - 198s 972ms/step - loss: 0.1094 - accuracy: 0.8454\n",
            "Epoch 9/20\n",
            "203/203 [==============================] - 200s 984ms/step - loss: 0.1053 - accuracy: 0.8522\n",
            "Epoch 10/20\n",
            "203/203 [==============================] - 198s 974ms/step - loss: 0.1078 - accuracy: 0.8477\n",
            "Epoch 11/20\n",
            "203/203 [==============================] - 194s 954ms/step - loss: 0.0991 - accuracy: 0.8615\n",
            "Epoch 12/20\n",
            "203/203 [==============================] - 192s 949ms/step - loss: 0.0957 - accuracy: 0.8672\n",
            "Epoch 13/20\n",
            "203/203 [==============================] - 194s 956ms/step - loss: 0.0929 - accuracy: 0.8719\n",
            "Epoch 14/20\n",
            "203/203 [==============================] - 194s 955ms/step - loss: 0.0899 - accuracy: 0.8762\n",
            "Epoch 15/20\n",
            "203/203 [==============================] - 193s 951ms/step - loss: 0.0874 - accuracy: 0.8803\n",
            "Epoch 16/20\n",
            "203/203 [==============================] - 194s 955ms/step - loss: 0.0854 - accuracy: 0.8834\n",
            "Epoch 17/20\n",
            "203/203 [==============================] - 193s 950ms/step - loss: 0.0833 - accuracy: 0.8861\n",
            "Epoch 18/20\n",
            "203/203 [==============================] - 189s 933ms/step - loss: 0.0811 - accuracy: 0.8898\n",
            "Epoch 19/20\n",
            "203/203 [==============================] - 189s 929ms/step - loss: 0.0793 - accuracy: 0.8927\n",
            "Epoch 20/20\n",
            "203/203 [==============================] - 190s 933ms/step - loss: 0.0774 - accuracy: 0.8953\n"
          ]
        }
      ]
    },
    {
      "cell_type": "code",
      "source": [
        "from keras.utils.vis_utils import plot_model\n",
        "\n",
        "plot_model(model)"
      ],
      "metadata": {
        "colab": {
          "base_uri": "https://localhost:8080/",
          "height": 466
        },
        "id": "vBjJm4Mvcisa",
        "outputId": "d089c7c6-c3c9-4ede-8e7b-861a31fb6146"
      },
      "execution_count": 10,
      "outputs": [
        {
          "output_type": "execute_result",
          "data": {
            "image/png": "[encoded data removed]",
            "text/plain": [
              "<IPython.core.display.Image object>"
            ]
          },
          "metadata": {},
          "execution_count": 10
        }
      ]
    },
    {
      "cell_type": "code",
      "source": [
        "# Text preprocessing\n",
        "import re\n",
        "import nltk\n",
        "from nltk.corpus import stopwords\n",
        "from nltk.stem import WordNetLemmatizer\n",
        "from nltk.tokenize import word_tokenize\n",
        "nltk.download('stopwords')\n",
        "nltk.download('punkt')\n",
        "nltk.download('wordnet')\n",
        "stop_words = set(stopwords.words('english'))\n",
        "\n",
        "def expand_contractions(sentence):\n",
        "    contractions = {\n",
        "        \"ain't\": \"am not\",\n",
        "        \"aren't\": \"are not\",\n",
        "        \"can't\": \"cannot\",\n",
        "        \"can't've\": \"cannot have\",\n",
        "        \"'cause\": \"because\",\n",
        "        \"could've\": \"could have\",\n",
        "        \"couldn't\": \"could not\",\n",
        "        \"couldn't've\": \"could not have\",\n",
        "        \"didn't\": \"did not\",\n",
        "        \"doesn't\": \"does not\",\n",
        "        \"don't\": \"do not\",\n",
        "        \"hadn't\": \"had not\",\n",
        "        \"hadn't've\": \"had not have\",\n",
        "        \"hasn't\": \"has not\",\n",
        "        \"haven't\": \"have not\",\n",
        "        \"he'd\": \"he would\",\n",
        "        \"he'd've\": \"he would have\",\n",
        "        \"he'll\": \"he will\",\n",
        "        \"he'll've\": \"he will have\",\n",
        "        \"he's\": \"he is\",\n",
        "        \"how'd\": \"how did\",\n",
        "        \"how'd'y\": \"how do you\",\n",
        "        \"how'll\": \"how will\",\n",
        "        \"how's\": \"how is\",\n",
        "        \"I'd\": \"I would\",\n",
        "        \"I'd've\": \"I would have\",\n",
        "        \"I'll\": \"I will\",\n",
        "        \"I'll've\": \"I will have\",\n",
        "        \"I'm\": \"I am\",\n",
        "        \"I've\": \"I have\",\n",
        "        \"isn't\": \"is not\",\n",
        "        \"it'd\": \"it would\",\n",
        "        \"it'd've\": \"it would have\",\n",
        "        \"it'll\": \"it will\",\n",
        "        \"it'll've\": \"it will have\",\n",
        "        \"it's\": \"it is\",\n",
        "        \"let's\": \"let us\",\n",
        "        \"ma'am\": \"madam\",\n",
        "        \"mayn't\": \"may not\",\n",
        "        \"might've\": \"might have\",\n",
        "        \"mightn't\": \"might not\",\n",
        "        \"mightn't've\": \"might not have\",\n",
        "        \"must've\": \"must have\",\n",
        "        \"mustn't\": \"must not\",\n",
        "        \"mustn't've\": \"must not have\",\n",
        "        \"needn't\": \"need not\",\n",
        "        \"needn't've\": \"need not have\",\n",
        "        \"o'clock\": \"of the clock\",\n",
        "        \"oughtn't\": \"ought not\",\n",
        "        \"oughtn't've\": \"ought not have\",\n",
        "        \"shan't\": \"shall not\",\n",
        "        \"sha'n't\": \"shall not\",\n",
        "        \"shan't've\": \"shall not have\",\n",
        "        \"she'd\": \"she would\",\n",
        "        \"she'd've\": \"she would have\",\n",
        "        \"she'll\": \"she will\",\n",
        "        \"she'll've\": \"she will have\",\n",
        "        \"she's\": \"she is\",\n",
        "        \"should've\": \"should have\",\n",
        "        \"shouldn't\": \"should not\",\n",
        "        \"shouldn't've\": \"should not have\",\n",
        "        \"so've\": \"so have\",\n",
        "        \"so's\": \"so is\",\n",
        "        \"that'd\": \"that would\",\n",
        "        \"that'd've\": \"that would have\",\n",
        "        \"that's\": \"that is\",\n",
        "        \"there'd\": \"there would\",\n",
        "        \"there'd've\": \"there would have\",\n",
        "        \"there's\": \"there is\",\n",
        "        \"they'd\": \"they would\",\n",
        "        \"they'd've\": \"they would have\",\n",
        "        \"they'll\": \"they will\",\n",
        "        \"they'll've\": \"they will have\",\n",
        "        \"they're\": \"they are\",\n",
        "        \"they've\": \"they have\",\n",
        "        \"to've\": \"to have\",\n",
        "        \"wasn't\": \"was not\",\n",
        "        \"we'd\": \"we would\",\n",
        "        \"we'd've\": \"we would have\",\n",
        "        \"we'll\": \"we will\",\n",
        "        \"we'll've\": \"we will have\",\n",
        "        \"we're\": \"we are\",\n",
        "        \"we've\": \"we have\",\n",
        "        \"weren't\": \"were not\",\n",
        "        \"what'll\": \"what will\",\n",
        "        \"what'll've\": \"what will have\",\n",
        "        \"what're\": \"what are\",\n",
        "        \"what's\": \"what is\",\n",
        "        \"what've\": \"what have\",\n",
        "        \"when's\": \"when is\",\n",
        "        \"when've\": \"when have\",\n",
        "        \"where'd\": \"where did\",\n",
        "        \"where's\": \"where is\",\n",
        "        \"where've\": \"where have\",\n",
        "        \"who'll\": \"who will\",\n",
        "        \"who'll've\": \"who will have\",\n",
        "        \"who's\": \"who is\",\n",
        "        \"who've\": \"who have\",\n",
        "        \"why's\": \"why is\",\n",
        "        \"why've\": \"why have\",\n",
        "        \"will've\": \"will have\",\n",
        "        \"won't\": \"will not\",\n",
        "        \"won't've\": \"will not have\",\n",
        "        \"would've\": \"would have\",\n",
        "        \"wouldn't\": \"would not\",\n",
        "        \"wouldn't've\": \"would not have\",\n",
        "        \"y'all\": \"you all\",\n",
        "        \"y'all'd\": \"you all would\",\n",
        "        \"y'all'd've\": \"you all would have\",\n",
        "        \"y'all're\": \"you all are\",\n",
        "        \"y'all've\": \"you all have\",\n",
        "        \"you'd\": \"you would\",\n",
        "        \"you'd've\": \"you would have\",\n",
        "        \"you'll\": \"you will\",\n",
        "        \"you'll've\": \"you will have\",\n",
        "        \"you're\": \"you are\",\n",
        "        \"you've\": \"you have\"\n",
        "    }\n",
        "\n",
        "    # Create a regular expression pattern to match the contractions\n",
        "    pattern = re.compile(r'\\b(' + '|'.join(contractions.keys()) + r')\\b')\n",
        "\n",
        "    # Function to replace the matched contractions with their expanded forms\n",
        "    def replace(match):\n",
        "        return contractions[match.group(0)]\n",
        "\n",
        "    # Use the sub() function with the replace function to expand contractions\n",
        "    expanded_sentence = re.sub(pattern, replace, sentence)\n",
        "\n",
        "    return expanded_sentence\n",
        "\n",
        "def lemmatize_sentence(sentence):\n",
        "    lemmatizer = WordNetLemmatizer()\n",
        "    tokens = word_tokenize(sentence)\n",
        "    lemmatized_tokens = [lemmatizer.lemmatize(token, 'v') for token in tokens]\n",
        "    lemmatized_sentence = ' '.join(lemmatized_tokens)\n",
        "    return lemmatized_sentence\n",
        "\n",
        "def delete_stopwords(sentence):\n",
        "    tokens = word_tokenize(sentence)\n",
        "    filtered_tokens = [word for word in tokens if word.lower() not in stop_words]\n",
        "    filtered_sentence = ' '.join(filtered_tokens)\n",
        "    return filtered_sentence\n",
        "\n",
        "def text_cleaning(x):\n",
        "    # To replace consecutive whitespace and newline characters with a single space character in the string\n",
        "    q = re.sub('\\s+\\n+', ' ', x)\n",
        "    \n",
        "    # To lowercase\n",
        "    q = q.lower()\n",
        "    \n",
        "    # expand contractions\n",
        "    q = expand_contractions(q)\n",
        "    \n",
        "    # To replace any non-alphanumeric character in the string \n",
        "    q = re.sub('[^a-zA-Z0-9]', ' ', q)\n",
        "    \n",
        "    # Lemmatization\n",
        "    q = lemmatize_sentence(q)\n",
        "    \n",
        "    return delete_stopwords(q)\n",
        "    #return q"
      ],
      "metadata": {
        "colab": {
          "base_uri": "https://localhost:8080/"
        },
        "id": "9PZx17h6SePl",
        "outputId": "59ab97d7-a04c-48f3-df77-eda528124eae"
      },
      "execution_count": 11,
      "outputs": [
        {
          "output_type": "stream",
          "name": "stderr",
          "text": [
            "[nltk_data] Downloading package stopwords to /root/nltk_data...\n",
            "[nltk_data]   Unzipping corpora/stopwords.zip.\n",
            "[nltk_data] Downloading package punkt to /root/nltk_data...\n",
            "[nltk_data]   Unzipping tokenizers/punkt.zip.\n",
            "[nltk_data] Downloading package wordnet to /root/nltk_data...\n"
          ]
        }
      ]
    },
    {
      "cell_type": "code",
      "source": [
        "def predict(q1, q2):\n",
        "  q1 = text_cleaning(q1)\n",
        "  q2 = text_cleaning(q2)\n",
        "\n",
        "  process_q1 = tokenizer.texts_to_sequences([q1])\n",
        "  process_q1 = pad_sequences(process_q1, maxlen = 54, padding='post')\n",
        "\n",
        "  process_q2 = tokenizer.texts_to_sequences([q2])\n",
        "  process_q2 = pad_sequences(process_q2, maxlen = 54, padding='post')\n",
        "\n",
        "  return str(model.predict([process_q1,process_q2])[0][0])"
      ],
      "metadata": {
        "id": "hPdKc9s88xgz"
      },
      "execution_count": 12,
      "outputs": []
    },
    {
      "cell_type": "code",
      "source": [
        "predict(\"Why are so many Quora users posting questions that are readily answered on Google?\", \"Why do people ask Quora questions which can be answered easily by Google?\")"
      ],
      "metadata": {
        "id": "5IcVSMmK8yfW",
        "colab": {
          "base_uri": "https://localhost:8080/",
          "height": 53
        },
        "outputId": "f0679b74-ba0e-4fe4-cbb3-7148712ee7ad"
      },
      "execution_count": 16,
      "outputs": [
        {
          "output_type": "stream",
          "name": "stdout",
          "text": [
            "1/1 [==============================] - 0s 92ms/step\n"
          ]
        },
        {
          "output_type": "execute_result",
          "data": {
            "text/plain": [
              "'0.86219984'"
            ],
            "application/vnd.google.colaboratory.intrinsic+json": {
              "type": "string"
            }
          },
          "metadata": {},
          "execution_count": 16
        }
      ]
    },
    {
      "cell_type": "code",
      "source": [
        "predict(\"Why are so many Quora users posting questions that are readily answered on Google?\", \"What is coin?\")"
      ],
      "metadata": {
        "id": "BzKAQWYWT1Qu",
        "colab": {
          "base_uri": "https://localhost:8080/",
          "height": 53
        },
        "outputId": "ba4015e3-bd75-4738-923e-53e9b902ff69"
      },
      "execution_count": 15,
      "outputs": [
        {
          "output_type": "stream",
          "name": "stdout",
          "text": [
            "1/1 [==============================] - 0s 175ms/step\n"
          ]
        },
        {
          "output_type": "execute_result",
          "data": {
            "text/plain": [
              "'0.00022678396'"
            ],
            "application/vnd.google.colaboratory.intrinsic+json": {
              "type": "string"
            }
          },
          "metadata": {},
          "execution_count": 15
        }
      ]
    }
  ]
}